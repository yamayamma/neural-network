{
 "cells": [
  {
   "cell_type": "markdown",
   "metadata": {},
   "source": [
    "import"
   ]
  },
  {
   "cell_type": "code",
   "execution_count": 1,
   "metadata": {},
   "outputs": [],
   "source": [
    "import torch\n",
    "\n",
    "from torchvision.datasets import MNIST\n",
    "from torchvision.transforms import ToTensor\n",
    "from torch.utils.data import DataLoader\n",
    "import matplotlib.pyplot as plt\n",
    "import numpy as np\n",
    "import sklearn.metrics as skm\n",
    "\n",
    "import torch.nn as nn"
   ]
  },
  {
   "cell_type": "markdown",
   "metadata": {},
   "source": [
    "データの読み込み"
   ]
  },
  {
   "cell_type": "code",
   "execution_count": 24,
   "metadata": {},
   "outputs": [
    {
     "data": {
      "image/png": "[encoded data removed]",
      "text/plain": [
       "<Figure size 720x144 with 10 Axes>"
      ]
     },
     "metadata": {
      "needs_background": "light"
     },
     "output_type": "display_data"
    }
   ],
   "source": [
    "D = 28*28 # データの次元数\n",
    "K = 10    # クラス数\n",
    "\n",
    "# 学習データのインスタンス\n",
    "dsL = MNIST(root='data', train=True, transform = ToTensor(), download = True)\n",
    "dlL = DataLoader(dsL, batch_size=100, shuffle=True) # バッチ数100 シャッフル\n",
    "# テストデータのインスタンス\n",
    "dsT = MNIST(root='data', train=False, transform = ToTensor(), download = True)\n",
    "dlT = DataLoader(dsT, batch_size=100, shuffle=True)\n",
    "\n",
    "# 最初の10個のデータを表示\n",
    "fig = plt.figure(figsize=(10, 2))\n",
    "for n in range(10):\n",
    "    x, y = dsL[n]  # n 番目の学習データ\n",
    "    fig.add_subplot(1, 10, n+1)\n",
    "    plt.title(f'Class{y}')\n",
    "    plt.axis('off')\n",
    "    plt.imshow(x.squeeze(), cmap='gray')\n",
    "plt.show()\n"
   ]
  },
  {
   "cell_type": "markdown",
   "metadata": {},
   "source": [
    "ニューラルネットワークモデルの定義"
   ]
  },
  {
   "cell_type": "code",
   "execution_count": 7,
   "metadata": {},
   "outputs": [],
   "source": [
    "class Neuralmodel(nn.Module):\n",
    "    def __init__(self, D, L, K): # D:入力の次元 L:中間層の出力数 K:出力クラス数\n",
    "        super(Neuralmodel, self).__init__() # 初期化\n",
    "\n",
    "        self.D = D\n",
    "        self.K = K\n",
    "        self.L = L\n",
    "\n",
    "        # 全結合層\n",
    "        self.fc = nn.Sequential(\n",
    "            nn.Linear(D, L),\n",
    "            nn.ReLU(), # 活性化関数\n",
    "            nn.Linear(L,K)\n",
    "        )\n",
    "\n",
    "        self.logsoftmax = nn.LogSoftmax(dim=1) # ソフトマックス関数\n",
    "\n",
    "    # 出力計算\n",
    "    def forward(self, X):\n",
    "        X = self.fc(X)\n",
    "        X = self.logsoftmax(X)\n",
    "        return X"
   ]
  },
  {
   "cell_type": "markdown",
   "metadata": {},
   "source": [
    "学習(epoch 100まで10ずつ増加)"
   ]
  },
  {
   "cell_type": "code",
   "execution_count": 8,
   "metadata": {},
   "outputs": [
    {
     "name": "stdout",
     "output_type": "stream",
     "text": [
      "Epochs 10\n",
      "Epochs 20\n",
      "Epochs 30\n"
     ]
    }
   ],
   "source": [
    "nepoch = 30\n",
    "N = nepoch//10\n",
    "model = [] # モデル保存用\n",
    "loss_func = nn.NLLLoss(reduction='sum') # 交差エントロピー\n",
    "optimizer = [] # 最適化器保存用\n",
    "data = []\n",
    "\n",
    "for i in range(N):\n",
    "    model.append(Neuralmodel(D, 256, K).to('cpu')) # モデル作成\n",
    "    optimizer.append(torch.optim.Adam(model[i].parameters())) # 最適化器の作成\n",
    "    data.append([])\n",
    "\n",
    "for k in range(10, nepoch+1, 10): \n",
    "    kn = k // 10 - 1\n",
    "    for t in range(k):\n",
    "        loss_sum = 0.0\n",
    "        n = 0\n",
    "\n",
    "        for X , lab in dlL:\n",
    "            X = X.reshape((-1,D))\n",
    "\n",
    "            Y = model[kn](X)\n",
    "            loss = loss_func(Y, lab)\n",
    "\n",
    "            optimizer[kn].zero_grad()\n",
    "            loss.backward()\n",
    "            optimizer[kn].step()\n",
    "\n",
    "            n += len(X)\n",
    "            loss_sum += loss.item()\n",
    "        data[kn].append(loss_sum/n)\n",
    "        # print(t, loss_sum/n)\n",
    "    print(\"Epochs {}\".format(len(data[kn])))\n",
    "\n",
    "    "
   ]
  },
  {
   "cell_type": "code",
   "execution_count": 9,
   "metadata": {},
   "outputs": [
    {
     "data": {
      "image/png": "[encoded data removed]",
      "text/plain": [
       "<Figure size 432x288 with 1 Axes>"
      ]
     },
     "metadata": {
      "needs_background": "light"
     },
     "output_type": "display_data"
    }
   ],
   "source": [
    "plt.plot(range(len(data[0])), data[0])\n",
    "plt.xlabel(\"Epochs {}\".format(len(data[0])))\n",
    "plt.ylabel(\"loss\")\n",
    "plt.show()"
   ]
  },
  {
   "cell_type": "markdown",
   "metadata": {},
   "source": [
    "データ格納用"
   ]
  },
  {
   "cell_type": "code",
   "execution_count": 10,
   "metadata": {},
   "outputs": [],
   "source": [
    "# 学習データ用\n",
    "predata = [] # 予測ラベル\n",
    "labdata = [] # 正解ラベル\n",
    "# テストデータ用\n",
    "predataT = [] # 予測ラベル\n",
    "labdataT = [] # 正解ラベル\n",
    "for i in range(N):\n",
    "    model[i].eval()\n",
    "    predata.append([])\n",
    "    predataT.append([])\n",
    "    labdata.append([])\n",
    "    labdataT.append([])"
   ]
  },
  {
   "cell_type": "code",
   "execution_count": 11,
   "metadata": {},
   "outputs": [
    {
     "name": "stdout",
     "output_type": "stream",
     "text": [
      "10epoch #L: 0.0136 0.9971\n",
      "20epoch #L: 0.0048 0.9987\n",
      "30epoch #L: 0.0003 1.0000\n"
     ]
    }
   ],
   "source": [
    "for m in range(N):\n",
    "    loss_sum = 0.0\n",
    "    ncorrect = 0\n",
    "    n = 0\n",
    "    for X, lab in dlL:\n",
    "        X = X.reshape((-1,D))\n",
    "\n",
    "        Y = model[m](X)\n",
    "        loss = loss_func(Y, lab)\n",
    "\n",
    "        n += len(X)\n",
    "        loss_sum += loss.item()\n",
    "        ncorrect += (Y.argmax(dim=1) == lab).sum().item()\n",
    "        # data.append(lab[Y.argmax(dim=1) != lab])\n",
    "        predata[m].append(Y.argmax(dim=1))\n",
    "        labdata[m].append(lab)\n",
    "    print(f'{(m+1)*10}epoch #L: {loss_sum/n:.4f} {ncorrect/n:.4f}')"
   ]
  },
  {
   "cell_type": "code",
   "execution_count": 13,
   "metadata": {},
   "outputs": [
    {
     "name": "stdout",
     "output_type": "stream",
     "text": [
      "10epoch #T: 0.0637 0.9802\n",
      "20epoch #T: 0.0812 0.9795\n",
      "30epoch #T: 0.0856 0.9817\n"
     ]
    }
   ],
   "source": [
    "for m in range(N):\n",
    "    loss_sum = 0.0\n",
    "    ncorrect = 0\n",
    "    n = 0\n",
    "    for X, lab in dlT:\n",
    "        X = X.reshape((-1,D))\n",
    "\n",
    "        Y = model[m](X)\n",
    "        loss = loss_func(Y, lab)\n",
    "\n",
    "        n += len(X)\n",
    "        loss_sum += loss.item()\n",
    "        ncorrect += (Y.argmax(dim=1) == lab).sum().item()\n",
    "        # data.append(lab[Y.argmax(dim=1) != lab])\n",
    "        predataT[m].append(Y.argmax(dim=1))\n",
    "        labdataT[m].append(lab)\n",
    "    print(f'{(m+1)*10}epoch #T: {loss_sum/n:.4f} {ncorrect/n:.4f}')"
   ]
  },
  {
   "cell_type": "code",
   "execution_count": 14,
   "metadata": {},
   "outputs": [],
   "source": [
    "# tensorをnumpyにして混同行列を計算\n",
    "Predata = []\n",
    "Labdata = []\n",
    "PredataT = []\n",
    "LabdataT = []\n",
    "for l in range(N):\n",
    "    Predata.append(np.empty(0))\n",
    "    Labdata.append(np.empty(0))\n",
    "    PredataT.append(np.empty(0))\n",
    "    LabdataT.append(np.empty(0))\n",
    "for l in range(N):    \n",
    "    for i in predata[l]:\n",
    "        Predata[l] = np.hstack([Predata[l],i.numpy()])\n",
    "    for k in labdata[l]:\n",
    "        Labdata[l] = np.hstack([Labdata[l],k.numpy()])\n",
    "    for i in predataT[l]:\n",
    "        PredataT[l] = np.hstack([PredataT[l],i.numpy()])\n",
    "    for k in labdataT[l]:\n",
    "        LabdataT[l] = np.hstack([LabdataT[l],k.numpy()])\n",
    "\n",
    "# 混同行列を計算\n",
    "val = []\n",
    "valT = []\n",
    "for i in range(N):\n",
    "    val.append(skm.confusion_matrix(Labdata[i], Predata[i]))\n",
    "    valT.append(skm.confusion_matrix(LabdataT[i], PredataT[i]))\n",
    "    # print(f'{(i+1)*10}epoch')"
   ]
  },
  {
   "cell_type": "code",
   "execution_count": 23,
   "metadata": {},
   "outputs": [
    {
     "data": {
      "image/png": "[encoded data removed]",
      "text/plain": [
       "<Figure size 432x288 with 2 Axes>"
      ]
     },
     "metadata": {
      "needs_background": "light"
     },
     "output_type": "display_data"
    }
   ],
   "source": [
    "# 混同行列を可視化\n",
    "import seaborn as sns\n",
    "# sns.heatmap(val[0])\n",
    "# plt.savefig('img/ex02_cmL_l256_10epoch.png')\n",
    "# sns.heatmap(valT[0])\n",
    "# plt.savefig('img/ex02_cmT_l256_10epoch.png')\n",
    "# sns.heatmap(val[9])\n",
    "# plt.savefig('img/ex02_cmL_l256_100epoch.png')\n",
    "sns.heatmap(valT[0])\n",
    "plt.savefig('ex02mnist_cmT_30epoch.png')"
   ]
  },
  {
   "cell_type": "code",
   "execution_count": 16,
   "metadata": {},
   "outputs": [
    {
     "name": "stdout",
     "output_type": "stream",
     "text": [
      "[[1936    0    2    2    2    0    4    0    8    6]\n",
      " [   0 2246    6    2    0    2    4    0   10    0]\n",
      " [   8    8 2002    8    6    0    4   10   18    0]\n",
      " [   0    2    4 1980    0    6    0    6    6   16]\n",
      " [   2    0    2    2 1922    0    8    6    2   20]\n",
      " [   4    0    0   14    4 1736    8    0   12    6]\n",
      " [   4    6    2    2   12    8 1882    0    0    0]\n",
      " [   2   10   14    4    2    0    0 2000    8   16]\n",
      " [   2    0    2   12    8    2    4    4 1910    4]\n",
      " [   0    6    0    2   10    4    0    2    4 1990]]\n",
      "[[1940    2    0    2    2    2    4    2    4    2]\n",
      " [   0 2258    2    0    0    2    4    2    2    0]\n",
      " [   6    4 2020    6    4    0    4   10    8    2]\n",
      " [   2    0    6 1984    0    6    0    8    6    8]\n",
      " [   4    0    6    0 1926    0    6    4    2   16]\n",
      " [   4    0    0   16    2 1750    2    0    4    6]\n",
      " [   8    6    4    2    4    8 1880    0    4    0]\n",
      " [   0    6   10    6    2    0    0 2016    6   10]\n",
      " [  10    0    6   18    4    6    2    6 1888    8]\n",
      " [   2    4    0    8   12    8    0    8    4 1972]]\n"
     ]
    }
   ],
   "source": [
    "# テストデータの識別率最小と最大の内訳\n",
    "print(valT[0]) # 識別率最小(10epoch)\n",
    "print(valT[2]) # 識別率最大(60epoch)"
   ]
  },
  {
   "cell_type": "markdown",
   "metadata": {},
   "source": [
    "# 結果と考察\n",
    "テストデータに対する識別率が98%だった。内訳をみると3と8の間違いが最も多く、続いて5と4,4と9の間違いが多かった。"
   ]
  },
  {
   "cell_type": "code",
   "execution_count": 25,
   "metadata": {},
   "outputs": [],
   "source": [
    "# 正解率\n",
    "acc = []\n",
    "for i in range(N):\n",
    "    # print(f'{(i+1)*10}epoch')\n",
    "    acc.append(skm.accuracy_score(LabdataT[i], PredataT[i]))"
   ]
  },
  {
   "cell_type": "code",
   "execution_count": 26,
   "metadata": {},
   "outputs": [],
   "source": [
    "# 適合率\n",
    "rec = []\n",
    "for i in range(N):\n",
    "    # print(f'{(i+1)*10}epoch')\n",
    "    rec.append(skm.recall_score(LabdataT[i], PredataT[i], average=None))"
   ]
  },
  {
   "cell_type": "code",
   "execution_count": 27,
   "metadata": {},
   "outputs": [],
   "source": [
    "# 再現率\n",
    "pre = []\n",
    "for i in range(N):\n",
    "    # print(f'{(i+1)*10}epoch')\n",
    "    pre.append(skm.precision_score(LabdataT[i], PredataT[i], average=None))"
   ]
  },
  {
   "cell_type": "code",
   "execution_count": 28,
   "metadata": {},
   "outputs": [
    {
     "name": "stdout",
     "output_type": "stream",
     "text": [
      "0.9817\n",
      "[0.98979592 0.99471366 0.97868217 0.98217822 0.98065173 0.9809417\n",
      " 0.98121086 0.98054475 0.96919918 0.97720515]\n",
      "[0.98178138 0.99035088 0.98344693 0.97159647 0.98466258 0.98204265\n",
      " 0.98843323 0.98054475 0.97925311 0.9743083 ]\n"
     ]
    }
   ],
   "source": [
    "print(acc[2])\n",
    "print(rec[2])\n",
    "print(pre[2])"
   ]
  },
  {
   "cell_type": "code",
   "execution_count": null,
   "metadata": {},
   "outputs": [],
   "source": []
  }
 ],
 "metadata": {
  "interpreter": {
   "hash": "a1dc474d900d2547902aed62bdcda3b8feb97fe615f23c2e9601ed32a4ff6f56"
  },
  "kernelspec": {
   "display_name": "Python 3.9.6 ('tlab')",
   "language": "python",
   "name": "python3"
  },
  "language_info": {
   "codemirror_mode": {
    "name": "ipython",
    "version": 3
   },
   "file_extension": ".py",
   "mimetype": "text/x-python",
   "name": "python",
   "nbconvert_exporter": "python",
   "pygments_lexer": "ipython3",
   "version": "3.9.6"
  },
  "orig_nbformat": 4
 },
 "nbformat": 4,
 "nbformat_minor": 2
}
