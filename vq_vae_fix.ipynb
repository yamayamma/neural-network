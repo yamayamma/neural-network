{
  "cells": [
    {
      "cell_type": "markdown",
      "metadata": {
        "id": "uEgcrBPj5D8A"
      },
      "source": [
        "# [VQ-VAE](https://arxiv.org/abs/1711.00937) by  [Aäron van den Oord](https://twitter.com/avdnoord) et al. in PyTorch\n",
        "\n",
        "## Introduction\n",
        "\n",
        "Variational Auto Encoders (VAEs) can be thought of as what all but the last layer of a neural network is doing, namely feature extraction or seperating out the data. Thus given some data we can think of using a neural network for representation generation. \n",
        "\n",
        "Recall that the goal of a generative model is to estimate the probability distribution of high dimensional data such as images, videos, audio or even text by learning the underlying structure in the data as well as the dependencies between the different elements of the data. This is very useful since we can then use this representation to generate new data with similar properties. This way we can also learn useful features from the data in an unsupervised fashion.\n",
        "\n",
        "The VQ-VAE uses a discrete latent representation mostly because many important real-world objects are discrete. For example in images we might have categories like \"Cat\", \"Car\", etc. and it might not make sense to interpolate between these categories. Discrete representations are also easier to model since each category has a single value whereas if we had a continous latent space then we will need to normalize this density function and learn the dependencies between the different variables which could be very complex.\n",
        "\n",
        "### Code\n",
        "\n",
        "I have followed the code from the TensorFlow implementation by the author which you can find here [vqvae.py](https://github.com/deepmind/sonnet/blob/master/sonnet/python/modules/nets/vqvae.py) and [vqvae_example.ipynb](https://github.com/deepmind/sonnet/blob/master/sonnet/examples/vqvae_example.ipynb). \n",
        "\n",
        "Another PyTorch implementation is found at [pytorch-vqvae](https://github.com/ritheshkumar95/pytorch-vqvae).\n",
        "\n",
        "\n",
        "## Basic Idea\n",
        "\n",
        "The overall architecture is summarized in the diagram below:\n",
        "\n",
        "![](https://github.com/zalandoresearch/pytorch-vq-vae/blob/master/images/vq-vae.png?raw=1)"
      ]
    },
    {
      "cell_type": "markdown",
      "metadata": {
        "id": "ra8NP4Ig5D8E"
      },
      "source": [
        "We start by defining a latent embedding space of dimension `[K, D]` where `K` are the number of embeddings and `D` is the dimensionality of each latent embeddng vector, i.e. $e_i \\in \\mathbb{R}^{D}$. The model is comprised of an encoder and a decoder. The encoder will map the input to a sequence of discrete latent variables, whereas the decoder will try to reconstruct the input from these latent sequences. \n",
        "\n",
        "More preciesly, the model will take in batches of RGB images,  say $x$, each of size 32x32 for our example, and pass it through a ConvNet encoder producing some output $E(x)$, where we make sure the channels are the same as the dimensionality of the latent embedding vectors. To calculate the discrete latent variable we find the nearest embedding vector and output it's index. \n",
        "\n",
        "The input to the decoder is the embedding vector corresponding to the index which is passed through the decoder to produce the reconstructed image. \n",
        "\n",
        "Since the nearest neighbour lookup has no real gradient in the backward pass we simply pass the gradients from the decoder to the encoder  unaltered. The intuition is that since the output representation of the encoder and the input to the decoder share the same `D` channel dimensional space, the gradients contain useful information for how the encoder has to change its output to lower the reconstruction loss.\n",
        "\n",
        "## Loss\n",
        "\n",
        "The total loss is actually composed of three components\n",
        "\n",
        "1. **reconstruction loss**: which optimizes the decoder and encoder\n",
        "1. **codebook loss**: due to the fact that gradients bypass the embedding, we use a dictionary learning algorithm  which uses an $l_2$  error to move the embedding vectors $e_i$ towards the encoder output\n",
        "1. **commitment loss**:  since the volume of the embedding space is dimensionless, it can grow arbirtarily if the embeddings $e_i$ do not train as fast as  the encoder parameters, and thus we add a commitment loss to make sure that the encoder commits to an embedding"
      ]
    },
    {
      "cell_type": "code",
      "execution_count": 2,
      "metadata": {
        "id": "sQsPJKqk5D8F"
      },
      "outputs": [],
      "source": [
        "#!pip3 install -U -r requirements.txt"
      ]
    },
    {
      "cell_type": "code",
      "execution_count": 3,
      "metadata": {
        "id": "R-8-owwX5D8G"
      },
      "outputs": [],
      "source": [
        "from __future__ import print_function\n",
        "\n",
        "\n",
        "import matplotlib.pyplot as plt\n",
        "import numpy as np\n",
        "from scipy.signal import savgol_filter\n",
        "\n",
        "\n",
        "from six.moves import xrange\n",
        "\n",
        "# import umap\n",
        "\n",
        "import torch\n",
        "import torch.nn as nn\n",
        "import torch.nn.functional as F\n",
        "from torch.utils.data import DataLoader\n",
        "import torch.optim as optim\n",
        "\n",
        "import torchvision.datasets as datasets\n",
        "import torchvision.transforms as transforms\n",
        "from torchvision.utils import make_grid\n"
      ]
    },
    {
      "cell_type": "code",
      "execution_count": 4,
      "metadata": {
        "id": "Pn_SSZyp5D8H"
      },
      "outputs": [],
      "source": [
        "device = torch.device(\"cuda\" if torch.cuda.is_available() else \"cpu\")"
      ]
    },
    {
      "cell_type": "markdown",
      "metadata": {
        "id": "qa4YXzqw5D8H"
      },
      "source": [
        "## Load Data"
      ]
    },
    {
      "cell_type": "code",
      "execution_count": 5,
      "metadata": {
        "id": "lMckwhhx5D8I",
        "outputId": "15d9859c-9441-4cad-e2af-663888fc6c97"
      },
      "outputs": [],
      "source": [
        "# training_data = datasets.CIFAR10(root=\"data\", train=True, download=True,\n",
        "#                                   transform=transforms.Compose([\n",
        "#                                       transforms.ToTensor(),\n",
        "#                                       transforms.Normalize((0.5,0.5,0.5), (1.0,1.0,1.0)) # torchvision.transforms.Normalize(mean, std, inplace=False)\n",
        "#                                   ])) # テンソル　正規化 \n",
        "\n",
        "# validation_data = datasets.CIFAR10(root=\"data\", train=False, download=True,\n",
        "#                                   transform=transforms.Compose([\n",
        "#                                       transforms.ToTensor(),\n",
        "#                                       transforms.Normalize((0.5,0.5,0.5), (1.0,1.0,1.0))\n",
        "#                                   ]))\n",
        "# training_data = datasets.STL10(root=\"data\", download=True,\n",
        "#                                   transform=transforms.Compose([\n",
        "#                                       transforms.ToTensor(),\n",
        "#                                       transforms.Normalize((0.5,0.5,0.5), (1.0,1.0,1.0)) # torchvision.transforms.Normalize(mean, std, inplace=False)\n",
        "#                                   ])) # テンソル　正規化 \n",
        "\n",
        "# validation_data = datasets.STL10(root=\"data\", download=True,\n",
        "#                                   transform=transforms.Compose([\n",
        "#                                       transforms.ToTensor(),\n",
        "#                                       transforms.Normalize((0.5,0.5,0.5), (1.0,1.0,1.0))\n",
        "#                                   ]))\n",
        "training_data = datasets.MNIST(root=\"data\", train=True, download=True,\n",
        "                                  transform=transforms.Compose([\n",
        "                                      transforms.ToTensor(),\n",
        "                                      transforms.Normalize(0.5, 1.0) # torchvision.transforms.Normalize(mean, std, inplace=False)\n",
        "                                  ])) # テンソル　正規化 \n",
        "\n",
        "validation_data = datasets.MNIST(root=\"data\", train=False, download=True,\n",
        "                                  transform=transforms.Compose([\n",
        "                                      transforms.ToTensor(),\n",
        "                                      transforms.Normalize(0.5, 1.0)\n",
        "                                  ]))"
      ]
    },
    {
      "cell_type": "code",
      "execution_count": 6,
      "metadata": {},
      "outputs": [
        {
          "name": "stdout",
          "output_type": "stream",
          "text": [
            "1\n"
          ]
        }
      ],
      "source": [
        "in_channels = 3 if len(training_data.data.shape) == 4 else  1 # 3 color | 1 gray\n",
        "print(in_channels)\n"
      ]
    },
    {
      "cell_type": "code",
      "execution_count": 7,
      "metadata": {
        "id": "2GswEJ4s5D8J"
      },
      "outputs": [],
      "source": [
        "if in_channels == 1:\n",
        "    data_variance = np.var(training_data.data.numpy() / 255.0)\n",
        "else:\n",
        "    data_variance = np.var(training_data.data / 255.0)\n"
      ]
    },
    {
      "cell_type": "markdown",
      "metadata": {
        "id": "AOH3-TZh5D8K"
      },
      "source": [
        "## Vector Quantizer Layer\n",
        "\n",
        "This layer takes a tensor to be quantized. The channel dimension will be used as the space in which to quantize. All other dimensions will be flattened and will be seen as different examples to quantize.\n",
        "\n",
        "The output tensor will have the same shape as the input.\n",
        "\n",
        "As an example for a `BCHW` tensor of shape `[16, 64, 32, 32]`, we will first convert it to an `BHWC` tensor of shape `[16, 32, 32, 64]` and then reshape it into `[16384, 64]` and all `16384` vectors of size `64`  will be quantized independently. In otherwords, the channels are used as the space in which to quantize. All other dimensions will be flattened and be seen as different examples to quantize, `16384` in this case."
      ]
    },
    {
      "cell_type": "code",
      "execution_count": 8,
      "metadata": {
        "id": "uQAOFfjf5D8K"
      },
      "outputs": [],
      "source": [
        "class VectorQuantizer(nn.Module):\n",
        "    def __init__(self, num_embeddings, embedding_dim, commitment_cost): # K, D, beta\n",
        "        super(VectorQuantizer, self).__init__()\n",
        "        \n",
        "        self._embedding_dim = embedding_dim\n",
        "        self._num_embeddings = num_embeddings\n",
        "        \n",
        "        self._embedding = nn.Embedding(self._num_embeddings, self._embedding_dim) # torch.nn.Embedding(num_embeddings, embedding_dim, padding_idx=None, max_norm=None, norm_type=2.0, scale_grad_by_freq=False, sparse=False, _weight=None, device=None, dtype=None)\n",
        "        self._embedding.weight.data.uniform_(-1/self._num_embeddings, 1/self._num_embeddings) # 一様分布\n",
        "        self._commitment_cost = commitment_cost # 0.25 ?\n",
        "\n",
        "    def forward(self, inputs):\n",
        "        # convert inputs from BCHW -> BHWC\n",
        "        inputs = inputs.permute(0, 2, 3, 1).contiguous() # 軸の入れ替え　参照ではない\n",
        "        input_shape = inputs.shape\n",
        "        \n",
        "        # Flatten input (16384, 64)\n",
        "        flat_input = inputs.view(-1, self._embedding_dim)\n",
        "        \n",
        "        # Calculate distances 2乗距離 (16384, 512)\n",
        "        distances = (torch.sum(flat_input**2, dim=1, keepdim=True) \n",
        "                    + torch.sum(self._embedding.weight**2, dim=1)\n",
        "                    - 2 * torch.matmul(flat_input, self._embedding.weight.t()))\n",
        "            \n",
        "        # Encoding　One-hot表現\n",
        "        encoding_indices = torch.argmin(distances, dim=1).unsqueeze(1) # 最短距離のindex\n",
        "        encodings = torch.zeros(encoding_indices.shape[0], self._num_embeddings, device=inputs.device)\n",
        "        encodings.scatter_(1, encoding_indices, 1) # Tensor.scatter_(dim, index, src, reduce=None)\n",
        "        \n",
        "        # Quantize and unflatten 埋め込みベクトルに置き換え\n",
        "        quantized = torch.matmul(encodings, self._embedding.weight).view(input_shape)\n",
        "        quantized2 = torch.matmul(encodings, self._embedding.weight).view(input_shape)\n",
        "        \n",
        "        # Loss\n",
        "        e_latent_loss = F.mse_loss(quantized.detach(), inputs) # 第2項\n",
        "        q_latent_loss = F.mse_loss(quantized, inputs.detach()) # 第3項\n",
        "        loss = q_latent_loss + self._commitment_cost * e_latent_loss\n",
        "        \n",
        "        quantized = inputs + (quantized - inputs).detach() # 勾配の切り離し\n",
        "        avg_probs = torch.mean(encodings, dim=0)\n",
        "        perplexity = torch.exp(-torch.sum(avg_probs * torch.log(avg_probs + 1e-10)))\n",
        "        \n",
        "        # convert quantized from BHWC -> BCHW\n",
        "        return loss, quantized.permute(0, 3, 1, 2).contiguous(), perplexity, distances ,encoding_indices, encodings"
      ]
    },
    {
      "cell_type": "markdown",
      "metadata": {
        "id": "YWzxfd4J5D8L"
      },
      "source": [
        "We will also implement a slightly modified version  which will use exponential moving averages to update the embedding vectors instead of an auxillary loss. This has the advantage that the embedding updates are independent of the choice of optimizer for the encoder, decoder and other parts of the architecture. For most experiments the EMA version trains faster than the non-EMA version."
      ]
    },
    {
      "cell_type": "code",
      "execution_count": 9,
      "metadata": {
        "id": "C8gf7dbK5D8L"
      },
      "outputs": [],
      "source": [
        "class VectorQuantizerEMA(nn.Module):\n",
        "    def __init__(self, num_embeddings, embedding_dim, commitment_cost, decay, epsilon=1e-5):\n",
        "        super(VectorQuantizerEMA, self).__init__()\n",
        "        \n",
        "        self._embedding_dim = embedding_dim\n",
        "        self._num_embeddings = num_embeddings\n",
        "        \n",
        "        self._embedding = nn.Embedding(self._num_embeddings, self._embedding_dim)\n",
        "        self._embedding.weight.data.normal_() # 正規分布\n",
        "        self._commitment_cost = commitment_cost\n",
        "        \n",
        "        self.register_buffer('_ema_cluster_size', torch.zeros(num_embeddings))\n",
        "        self._ema_w = nn.Parameter(torch.Tensor(num_embeddings, self._embedding_dim))\n",
        "        self._ema_w.data.normal_()\n",
        "        \n",
        "        self._decay = decay\n",
        "        self._epsilon = epsilon\n",
        "\n",
        "    def forward(self, inputs):\n",
        "        # convert inputs from BCHW -> BHWC\n",
        "        inputs = inputs.permute(0, 2, 3, 1).contiguous()\n",
        "        input_shape = inputs.shape\n",
        "        \n",
        "        # Flatten input\n",
        "        flat_input = inputs.view(-1, self._embedding_dim)\n",
        "        \n",
        "        # Calculate distances\n",
        "        distances = (torch.sum(flat_input**2, dim=1, keepdim=True) \n",
        "                    + torch.sum(self._embedding.weight**2, dim=1)\n",
        "                    - 2 * torch.matmul(flat_input, self._embedding.weight.t()))\n",
        "            \n",
        "        # Encoding\n",
        "        encoding_indices = torch.argmin(distances, dim=1).unsqueeze(1)\n",
        "        encodings = torch.zeros(encoding_indices.shape[0], self._num_embeddings, device=inputs.device)\n",
        "        encodings.scatter_(1, encoding_indices, 1)\n",
        "        \n",
        "        # Quantize and unflatten\n",
        "        quantized = torch.matmul(encodings, self._embedding.weight).view(input_shape)\n",
        "        \n",
        "        # Use EMA to update the embedding vectors\n",
        "        if self.training:\n",
        "            self._ema_cluster_size = self._ema_cluster_size * self._decay + \\\n",
        "                                     (1 - self._decay) * torch.sum(encodings, 0)\n",
        "            \n",
        "            # Laplace smoothing of the cluster size\n",
        "            n = torch.sum(self._ema_cluster_size.data)\n",
        "            self._ema_cluster_size = (\n",
        "                (self._ema_cluster_size + self._epsilon)\n",
        "                / (n + self._num_embeddings * self._epsilon) * n)\n",
        "            \n",
        "            dw = torch.matmul(encodings.t(), flat_input)\n",
        "            self._ema_w = nn.Parameter(self._ema_w * self._decay + (1 - self._decay) * dw)\n",
        "            \n",
        "            self._embedding.weight = nn.Parameter(self._ema_w / self._ema_cluster_size.unsqueeze(1))\n",
        "        \n",
        "        # Loss\n",
        "        e_latent_loss = F.mse_loss(quantized.detach(), inputs)\n",
        "        loss = self._commitment_cost * e_latent_loss\n",
        "        \n",
        "        # Straight Through Estimator\n",
        "        quantized = inputs + (quantized - inputs).detach()\n",
        "        avg_probs = torch.mean(encodings, dim=0)\n",
        "        perplexity = torch.exp(-torch.sum(avg_probs * torch.log(avg_probs + 1e-10)))\n",
        "        \n",
        "        # convert quantized from BHWC -> BCHW\n",
        "        return loss, quantized.permute(0, 3, 1, 2).contiguous(), perplexity, encodings"
      ]
    },
    {
      "cell_type": "markdown",
      "metadata": {
        "id": "2HTJcutR5D8M"
      },
      "source": [
        "## Encoder & Decoder Architecture\n",
        "\n",
        "The encoder and decoder architecture is based on a ResNet and is implemented below:"
      ]
    },
    {
      "cell_type": "code",
      "execution_count": 10,
      "metadata": {
        "id": "y8DNpLHi5D8M"
      },
      "outputs": [],
      "source": [
        "class Residual(nn.Module):\n",
        "    def __init__(self, in_channels, num_hiddens, num_residual_hiddens):\n",
        "        super(Residual, self).__init__()\n",
        "        self._block = nn.Sequential(\n",
        "            nn.ReLU(True),\n",
        "            nn.Conv2d(in_channels=in_channels,\n",
        "                      out_channels=num_residual_hiddens,\n",
        "                      kernel_size=3, stride=1, padding=1, bias=False),\n",
        "            nn.ReLU(True),\n",
        "            nn.Conv2d(in_channels=num_residual_hiddens,\n",
        "                      out_channels=num_hiddens,\n",
        "                      kernel_size=1, stride=1, bias=False)\n",
        "        )\n",
        "    \n",
        "    def forward(self, x):\n",
        "        return x + self._block(x)\n",
        "\n",
        "\n",
        "class ResidualStack(nn.Module):\n",
        "    def __init__(self, in_channels, num_hiddens, num_residual_layers, num_residual_hiddens):\n",
        "        super(ResidualStack, self).__init__()\n",
        "        self._num_residual_layers = num_residual_layers\n",
        "        self._layers = nn.ModuleList([Residual(in_channels, num_hiddens, num_residual_hiddens)\n",
        "                             for _ in range(self._num_residual_layers)])\n",
        "\n",
        "    def forward(self, x):\n",
        "        for i in range(self._num_residual_layers):\n",
        "            x = self._layers[i](x)\n",
        "        return F.relu(x)"
      ]
    },
    {
      "cell_type": "code",
      "execution_count": 11,
      "metadata": {
        "id": "uOv42WAX5D8M"
      },
      "outputs": [],
      "source": [
        "class Encoder(nn.Module):\n",
        "    def __init__(self, in_channels, num_hiddens, num_residual_layers, num_residual_hiddens):\n",
        "        super(Encoder, self).__init__()\n",
        "\n",
        "        self._conv_1 = nn.Conv2d(in_channels=in_channels,\n",
        "                                 out_channels=num_hiddens//2,\n",
        "                                 kernel_size=4,\n",
        "                                 stride=2, padding=1)\n",
        "        self._conv_2 = nn.Conv2d(in_channels=num_hiddens//2,\n",
        "                                 out_channels=num_hiddens,\n",
        "                                 kernel_size=4,\n",
        "                                 stride=2, padding=1)\n",
        "        self._conv_3 = nn.Conv2d(in_channels=num_hiddens,\n",
        "                                 out_channels=num_hiddens,\n",
        "                                 kernel_size=3,\n",
        "                                 stride=1, padding=1)\n",
        "        self._residual_stack = ResidualStack(in_channels=num_hiddens,\n",
        "                                             num_hiddens=num_hiddens,\n",
        "                                             num_residual_layers=num_residual_layers,\n",
        "                                             num_residual_hiddens=num_residual_hiddens)\n",
        "\n",
        "    def forward(self, inputs):\n",
        "        x = self._conv_1(inputs)\n",
        "        x = F.relu(x)\n",
        "        \n",
        "        x = self._conv_2(x)\n",
        "        x = F.relu(x)\n",
        "        \n",
        "        x = self._conv_3(x)\n",
        "        return self._residual_stack(x)"
      ]
    },
    {
      "cell_type": "code",
      "execution_count": 28,
      "metadata": {
        "id": "i-m-60GV5D8M"
      },
      "outputs": [],
      "source": [
        "class Decoder(nn.Module):\n",
        "    def __init__(self, in_channels, num_hiddens, num_residual_layers, num_residual_hiddens):\n",
        "        super(Decoder, self).__init__()\n",
        "        \n",
        "        self._conv_1 = nn.Conv2d(in_channels=in_channels,\n",
        "                                 out_channels=num_hiddens,\n",
        "                                 kernel_size=3, \n",
        "                                 stride=1, padding=1)\n",
        "        \n",
        "        self._residual_stack = ResidualStack(in_channels=num_hiddens,\n",
        "                                             num_hiddens=num_hiddens,\n",
        "                                             num_residual_layers=num_residual_layers,\n",
        "                                             num_residual_hiddens=num_residual_hiddens)\n",
        "        \n",
        "        self._conv_trans_1 = nn.ConvTranspose2d(in_channels=num_hiddens, \n",
        "                                                out_channels=num_hiddens//2,\n",
        "                                                kernel_size=4, \n",
        "                                                stride=2, padding=1)\n",
        "# (in_channels, out_channels, kernel_size, stride=1, padding=0, output_padding=0, groups=1, bias=True, dilation=1, padding_mode='zeros', device=None, dtype=None)\n",
        "        self._conv_trans_2 = nn.ConvTranspose2d(in_channels=num_hiddens//2, \n",
        "                                                out_channels=1,\n",
        "                                                kernel_size=4, \n",
        "                                                stride=2, padding=1)\n",
        "\n",
        "    def forward(self, inputs):\n",
        "        x = self._conv_1(inputs)\n",
        "        \n",
        "        x = self._residual_stack(x)\n",
        "        \n",
        "        x = self._conv_trans_1(x)\n",
        "        x = F.relu(x)\n",
        "        \n",
        "        return self._conv_trans_2(x)"
      ]
    },
    {
      "cell_type": "markdown",
      "metadata": {
        "id": "s4B65DN25D8N"
      },
      "source": [
        "## Train\n",
        "\n",
        "We use the hyperparameters from the author's code:"
      ]
    },
    {
      "cell_type": "code",
      "execution_count": 29,
      "metadata": {
        "id": "xJiuFtKa5D8N"
      },
      "outputs": [],
      "source": [
        "batch_size = 256\n",
        "num_training_updates = 15000\n",
        "\n",
        "num_hiddens = 128 # out_channels\n",
        "num_residual_hiddens = 32 # residualのout_channels\n",
        "num_residual_layers = 2 # residualの繰り返し数\n",
        "\n",
        "embedding_dim = 64 # D\n",
        "num_embeddings = 512 # K\n",
        "\n",
        "commitment_cost = 0.25\n",
        "\n",
        "decay = 0\n",
        "\n",
        "learning_rate = 1e-3\n",
        "\n",
        "folder = 'mono'"
      ]
    },
    {
      "cell_type": "code",
      "execution_count": 30,
      "metadata": {
        "id": "3PaQw1rQ5D8N"
      },
      "outputs": [],
      "source": [
        "training_loader = DataLoader(training_data, \n",
        "                             batch_size=batch_size, \n",
        "                             drop_last=True ,\n",
        "                             shuffle=True,\n",
        "                             pin_memory=True)"
      ]
    },
    {
      "cell_type": "code",
      "execution_count": 31,
      "metadata": {
        "id": "BVoBMbEZ5D8N"
      },
      "outputs": [],
      "source": [
        "validation_loader = DataLoader(validation_data,\n",
        "                               batch_size=32,\n",
        "                               shuffle=True,\n",
        "                               pin_memory=True)"
      ]
    },
    {
      "cell_type": "code",
      "execution_count": 32,
      "metadata": {
        "id": "rf7E5pD85D8O"
      },
      "outputs": [],
      "source": [
        "class Model(nn.Module):\n",
        "    def __init__(self, in_channels, num_hiddens, num_residual_layers, num_residual_hiddens, \n",
        "                 num_embeddings, embedding_dim, commitment_cost, decay=0):\n",
        "        super(Model, self).__init__()\n",
        "        \n",
        "        self._encoder = Encoder(in_channels, num_hiddens,\n",
        "                                num_residual_layers, \n",
        "                                num_residual_hiddens)\n",
        "        self._pre_vq_conv = nn.Conv2d(in_channels=num_hiddens,\n",
        "                                      out_channels=embedding_dim,\n",
        "                                      kernel_size=1, \n",
        "                                      stride=1)\n",
        "        if decay > 0.0:\n",
        "            self._vq_vae = VectorQuantizerEMA(num_embeddings, embedding_dim, \n",
        "                                              commitment_cost, decay)\n",
        "        else:\n",
        "            self._vq_vae = VectorQuantizer(num_embeddings, embedding_dim,\n",
        "                                           commitment_cost)\n",
        "        self._decoder = Decoder(embedding_dim,\n",
        "                                num_hiddens, \n",
        "                                num_residual_layers, \n",
        "                                num_residual_hiddens)\n",
        "\n",
        "    def forward(self, x):\n",
        "        z = self._encoder(x)\n",
        "        z = self._pre_vq_conv(z)\n",
        "        loss, quantized, perplexity, distances, encoding_indices, encodings = self._vq_vae(z)\n",
        "        x_recon = self._decoder(quantized)\n",
        "\n",
        "        return loss, x_recon, perplexity, distances, encoding_indices, encodings"
      ]
    },
    {
      "cell_type": "code",
      "execution_count": 33,
      "metadata": {
        "id": "pHDJafPX5D8O"
      },
      "outputs": [],
      "source": [
        "model = Model(in_channels, num_hiddens, num_residual_layers, num_residual_hiddens,\n",
        "              num_embeddings, embedding_dim, \n",
        "              commitment_cost, decay).to(device)"
      ]
    },
    {
      "cell_type": "code",
      "execution_count": 34,
      "metadata": {},
      "outputs": [
        {
          "data": {
            "text/plain": [
              "===============================================================================================\n",
              "Layer (type:depth-idx)                        Output Shape              Param #\n",
              "===============================================================================================\n",
              "Model                                         --                        --\n",
              "├─Encoder: 1-1                                [256, 128, 7, 7]          --\n",
              "│    └─Conv2d: 2-1                            [256, 64, 14, 14]         1,088\n",
              "│    └─Conv2d: 2-2                            [256, 128, 7, 7]          131,200\n",
              "│    └─Conv2d: 2-3                            [256, 128, 7, 7]          147,584\n",
              "│    └─ResidualStack: 2-4                     [256, 128, 7, 7]          --\n",
              "│    │    └─ModuleList: 3-1                   --                        81,920\n",
              "├─Conv2d: 1-2                                 [256, 64, 7, 7]           8,256\n",
              "├─VectorQuantizer: 1-3                        --                        --\n",
              "│    └─Embedding: 2-5                         --                        32,768\n",
              "├─Decoder: 1-4                                [256, 1, 28, 28]          --\n",
              "│    └─Conv2d: 2-6                            [256, 128, 7, 7]          73,856\n",
              "│    └─ResidualStack: 2-7                     [256, 128, 7, 7]          --\n",
              "│    │    └─ModuleList: 3-2                   --                        81,920\n",
              "│    └─ConvTranspose2d: 2-8                   [256, 64, 14, 14]         131,136\n",
              "│    └─ConvTranspose2d: 2-9                   [256, 1, 28, 28]          1,025\n",
              "===============================================================================================\n",
              "Total params: 690,753\n",
              "Trainable params: 690,753\n",
              "Non-trainable params: 0\n",
              "Total mult-adds (G): 13.42\n",
              "===============================================================================================\n",
              "Input size (MB): 0.80\n",
              "Forward/backward pass size (MB): 162.17\n",
              "Params size (MB): 2.76\n",
              "Estimated Total Size (MB): 165.73\n",
              "==============================================================================================="
            ]
          },
          "execution_count": 34,
          "metadata": {},
          "output_type": "execute_result"
        }
      ],
      "source": [
        "from torchinfo import summary\n",
        "summary(model, input_size=(batch_size, in_channels, training_data.data.shape[1], training_data.data.shape[2]), col_names=[\"output_size\", \"num_params\"])"
      ]
    },
    {
      "cell_type": "code",
      "execution_count": 35,
      "metadata": {
        "id": "vZBvIUtZ5D8O"
      },
      "outputs": [
        {
          "name": "stdout",
          "output_type": "stream",
          "text": [
            "CPU times: user 100 µs, sys: 90 µs, total: 190 µs\n",
            "Wall time: 196 µs\n"
          ]
        }
      ],
      "source": [
        "%%time\n",
        "# %%timeit　平均\n",
        "optimizer = optim.Adam(model.parameters(), lr=learning_rate, amsgrad=False)"
      ]
    },
    {
      "cell_type": "code",
      "execution_count": 36,
      "metadata": {
        "id": "1sBzroxF5D8O"
      },
      "outputs": [
        {
          "name": "stdout",
          "output_type": "stream",
          "text": [
            "100 iterations\n",
            "recon_error: 0.565\n",
            "perplexity: 3.066\n",
            "\n",
            "200 iterations\n",
            "recon_error: 0.242\n",
            "perplexity: 4.190\n",
            "\n",
            "300 iterations\n",
            "recon_error: 0.188\n",
            "perplexity: 5.860\n",
            "\n",
            "400 iterations\n",
            "recon_error: 0.169\n",
            "perplexity: 6.090\n",
            "\n",
            "500 iterations\n",
            "recon_error: 0.159\n",
            "perplexity: 7.203\n",
            "\n",
            "600 iterations\n",
            "recon_error: 0.147\n",
            "perplexity: 8.540\n",
            "\n",
            "700 iterations\n",
            "recon_error: 0.135\n",
            "perplexity: 11.530\n",
            "\n",
            "800 iterations\n",
            "recon_error: 0.125\n",
            "perplexity: 15.078\n",
            "\n",
            "900 iterations\n",
            "recon_error: 0.114\n",
            "perplexity: 18.858\n",
            "\n",
            "1000 iterations\n",
            "recon_error: 0.105\n",
            "perplexity: 23.109\n",
            "\n",
            "1100 iterations\n",
            "recon_error: 0.098\n",
            "perplexity: 27.230\n",
            "\n",
            "1200 iterations\n",
            "recon_error: 0.094\n",
            "perplexity: 31.074\n",
            "\n",
            "1300 iterations\n",
            "recon_error: 0.089\n",
            "perplexity: 35.332\n",
            "\n",
            "1400 iterations\n",
            "recon_error: 0.083\n",
            "perplexity: 39.556\n",
            "\n",
            "1500 iterations\n",
            "recon_error: 0.079\n",
            "perplexity: 43.306\n",
            "\n",
            "1600 iterations\n",
            "recon_error: 0.076\n",
            "perplexity: 46.688\n",
            "\n",
            "1700 iterations\n",
            "recon_error: 0.072\n",
            "perplexity: 50.130\n",
            "\n",
            "1800 iterations\n",
            "recon_error: 0.069\n",
            "perplexity: 53.519\n",
            "\n",
            "1900 iterations\n",
            "recon_error: 0.067\n",
            "perplexity: 56.693\n",
            "\n",
            "2000 iterations\n",
            "recon_error: 0.064\n",
            "perplexity: 59.754\n",
            "\n",
            "2100 iterations\n",
            "recon_error: 0.063\n",
            "perplexity: 62.220\n",
            "\n",
            "2200 iterations\n",
            "recon_error: 0.060\n",
            "perplexity: 63.935\n",
            "\n",
            "2300 iterations\n",
            "recon_error: 0.058\n",
            "perplexity: 65.107\n",
            "\n",
            "2400 iterations\n",
            "recon_error: 0.057\n",
            "perplexity: 65.996\n",
            "\n",
            "2500 iterations\n",
            "recon_error: 0.055\n",
            "perplexity: 66.801\n",
            "\n",
            "2600 iterations\n",
            "recon_error: 0.053\n",
            "perplexity: 67.451\n",
            "\n",
            "2700 iterations\n",
            "recon_error: 0.052\n",
            "perplexity: 67.906\n",
            "\n",
            "2800 iterations\n",
            "recon_error: 0.051\n",
            "perplexity: 68.639\n",
            "\n",
            "2900 iterations\n",
            "recon_error: 0.049\n",
            "perplexity: 68.777\n",
            "\n",
            "3000 iterations\n",
            "recon_error: 0.047\n",
            "perplexity: 68.719\n",
            "\n",
            "3100 iterations\n",
            "recon_error: 0.046\n",
            "perplexity: 68.851\n",
            "\n",
            "3200 iterations\n",
            "recon_error: 0.045\n",
            "perplexity: 68.911\n",
            "\n",
            "3300 iterations\n",
            "recon_error: 0.044\n",
            "perplexity: 68.891\n",
            "\n",
            "3400 iterations\n",
            "recon_error: 0.043\n",
            "perplexity: 69.314\n",
            "\n",
            "3500 iterations\n",
            "recon_error: 0.041\n",
            "perplexity: 69.554\n",
            "\n",
            "3600 iterations\n",
            "recon_error: 0.040\n",
            "perplexity: 69.461\n",
            "\n",
            "3700 iterations\n",
            "recon_error: 0.040\n",
            "perplexity: 69.825\n",
            "\n",
            "3800 iterations\n",
            "recon_error: 0.039\n",
            "perplexity: 71.056\n",
            "\n",
            "3900 iterations\n",
            "recon_error: 0.038\n",
            "perplexity: 71.933\n",
            "\n",
            "4000 iterations\n",
            "recon_error: 0.037\n",
            "perplexity: 72.215\n",
            "\n",
            "4100 iterations\n",
            "recon_error: 0.036\n",
            "perplexity: 72.831\n",
            "\n",
            "4200 iterations\n",
            "recon_error: 0.036\n",
            "perplexity: 73.455\n",
            "\n",
            "4300 iterations\n",
            "recon_error: 0.035\n",
            "perplexity: 73.800\n",
            "\n",
            "4400 iterations\n",
            "recon_error: 0.035\n",
            "perplexity: 74.197\n",
            "\n",
            "4500 iterations\n",
            "recon_error: 0.034\n",
            "perplexity: 74.640\n",
            "\n",
            "4600 iterations\n",
            "recon_error: 0.033\n",
            "perplexity: 75.029\n",
            "\n",
            "4700 iterations\n",
            "recon_error: 0.033\n",
            "perplexity: 75.212\n",
            "\n",
            "4800 iterations\n",
            "recon_error: 0.033\n",
            "perplexity: 75.462\n",
            "\n",
            "4900 iterations\n",
            "recon_error: 0.032\n",
            "perplexity: 75.615\n",
            "\n",
            "Model saved.\n",
            "5000 iterations\n",
            "recon_error: 0.032\n",
            "perplexity: 76.011\n",
            "\n",
            "5100 iterations\n",
            "recon_error: 0.031\n",
            "perplexity: 76.111\n",
            "\n",
            "5200 iterations\n",
            "recon_error: 0.031\n",
            "perplexity: 76.351\n",
            "\n",
            "5300 iterations\n",
            "recon_error: 0.030\n",
            "perplexity: 76.318\n",
            "\n",
            "5400 iterations\n",
            "recon_error: 0.030\n",
            "perplexity: 76.659\n",
            "\n",
            "5500 iterations\n",
            "recon_error: 0.030\n",
            "perplexity: 76.655\n",
            "\n",
            "5600 iterations\n",
            "recon_error: 0.030\n",
            "perplexity: 77.096\n",
            "\n",
            "5700 iterations\n",
            "recon_error: 0.029\n",
            "perplexity: 77.346\n",
            "\n",
            "5800 iterations\n",
            "recon_error: 0.029\n",
            "perplexity: 77.519\n",
            "\n",
            "5900 iterations\n",
            "recon_error: 0.029\n",
            "perplexity: 77.445\n",
            "\n",
            "6000 iterations\n",
            "recon_error: 0.028\n",
            "perplexity: 77.401\n",
            "\n",
            "6100 iterations\n",
            "recon_error: 0.028\n",
            "perplexity: 77.163\n",
            "\n",
            "6200 iterations\n",
            "recon_error: 0.028\n",
            "perplexity: 77.473\n",
            "\n",
            "6300 iterations\n",
            "recon_error: 0.028\n",
            "perplexity: 77.501\n",
            "\n",
            "6400 iterations\n",
            "recon_error: 0.027\n",
            "perplexity: 77.644\n",
            "\n",
            "6500 iterations\n",
            "recon_error: 0.027\n",
            "perplexity: 77.888\n",
            "\n",
            "6600 iterations\n",
            "recon_error: 0.027\n",
            "perplexity: 77.855\n",
            "\n",
            "6700 iterations\n",
            "recon_error: 0.026\n",
            "perplexity: 78.247\n",
            "\n",
            "6800 iterations\n",
            "recon_error: 0.026\n",
            "perplexity: 78.549\n",
            "\n",
            "6900 iterations\n",
            "recon_error: 0.026\n",
            "perplexity: 78.948\n",
            "\n",
            "7000 iterations\n",
            "recon_error: 0.025\n",
            "perplexity: 78.816\n",
            "\n",
            "7100 iterations\n",
            "recon_error: 0.025\n",
            "perplexity: 78.922\n",
            "\n",
            "7200 iterations\n",
            "recon_error: 0.025\n",
            "perplexity: 79.254\n",
            "\n",
            "7300 iterations\n",
            "recon_error: 0.025\n",
            "perplexity: 79.919\n",
            "\n",
            "7400 iterations\n",
            "recon_error: 0.025\n",
            "perplexity: 79.854\n",
            "\n",
            "7500 iterations\n",
            "recon_error: 0.025\n",
            "perplexity: 80.165\n",
            "\n",
            "7600 iterations\n",
            "recon_error: 0.024\n",
            "perplexity: 80.427\n",
            "\n",
            "7700 iterations\n",
            "recon_error: 0.024\n",
            "perplexity: 80.692\n",
            "\n",
            "7800 iterations\n",
            "recon_error: 0.024\n",
            "perplexity: 80.689\n",
            "\n",
            "7900 iterations\n",
            "recon_error: 0.024\n",
            "perplexity: 81.113\n",
            "\n",
            "8000 iterations\n",
            "recon_error: 0.024\n",
            "perplexity: 81.416\n",
            "\n",
            "8100 iterations\n",
            "recon_error: 0.023\n",
            "perplexity: 81.511\n",
            "\n",
            "8200 iterations\n",
            "recon_error: 0.023\n",
            "perplexity: 81.886\n",
            "\n",
            "8300 iterations\n",
            "recon_error: 0.023\n",
            "perplexity: 81.904\n",
            "\n",
            "8400 iterations\n",
            "recon_error: 0.023\n",
            "perplexity: 82.271\n",
            "\n",
            "8500 iterations\n",
            "recon_error: 0.023\n",
            "perplexity: 82.777\n",
            "\n",
            "8600 iterations\n",
            "recon_error: 0.022\n",
            "perplexity: 82.946\n",
            "\n",
            "8700 iterations\n",
            "recon_error: 0.022\n",
            "perplexity: 83.004\n",
            "\n",
            "8800 iterations\n",
            "recon_error: 0.022\n",
            "perplexity: 83.256\n",
            "\n",
            "8900 iterations\n",
            "recon_error: 0.022\n",
            "perplexity: 83.685\n",
            "\n",
            "9000 iterations\n",
            "recon_error: 0.022\n",
            "perplexity: 83.782\n",
            "\n",
            "9100 iterations\n",
            "recon_error: 0.022\n",
            "perplexity: 84.139\n",
            "\n",
            "9200 iterations\n",
            "recon_error: 0.022\n",
            "perplexity: 83.975\n",
            "\n",
            "9300 iterations\n",
            "recon_error: 0.021\n",
            "perplexity: 84.187\n",
            "\n",
            "9400 iterations\n",
            "recon_error: 0.021\n",
            "perplexity: 84.282\n",
            "\n",
            "9500 iterations\n",
            "recon_error: 0.021\n",
            "perplexity: 84.145\n",
            "\n",
            "9600 iterations\n",
            "recon_error: 0.021\n",
            "perplexity: 84.497\n",
            "\n",
            "9700 iterations\n",
            "recon_error: 0.021\n",
            "perplexity: 84.207\n",
            "\n",
            "9800 iterations\n",
            "recon_error: 0.020\n",
            "perplexity: 84.492\n",
            "\n",
            "9900 iterations\n",
            "recon_error: 0.021\n",
            "perplexity: 84.928\n",
            "\n",
            "Model saved.\n",
            "10000 iterations\n",
            "recon_error: 0.021\n",
            "perplexity: 84.995\n",
            "\n",
            "10100 iterations\n",
            "recon_error: 0.020\n",
            "perplexity: 85.082\n",
            "\n",
            "10200 iterations\n",
            "recon_error: 0.020\n",
            "perplexity: 84.835\n",
            "\n",
            "10300 iterations\n",
            "recon_error: 0.020\n",
            "perplexity: 85.316\n",
            "\n",
            "10400 iterations\n",
            "recon_error: 0.020\n",
            "perplexity: 85.122\n",
            "\n",
            "10500 iterations\n",
            "recon_error: 0.020\n",
            "perplexity: 85.125\n",
            "\n",
            "10600 iterations\n",
            "recon_error: 0.020\n",
            "perplexity: 84.934\n",
            "\n",
            "10700 iterations\n",
            "recon_error: 0.020\n",
            "perplexity: 85.177\n",
            "\n",
            "10800 iterations\n",
            "recon_error: 0.020\n",
            "perplexity: 85.088\n",
            "\n",
            "10900 iterations\n",
            "recon_error: 0.019\n",
            "perplexity: 85.085\n",
            "\n",
            "11000 iterations\n",
            "recon_error: 0.019\n",
            "perplexity: 85.087\n",
            "\n",
            "11100 iterations\n",
            "recon_error: 0.019\n",
            "perplexity: 85.126\n",
            "\n",
            "11200 iterations\n",
            "recon_error: 0.019\n",
            "perplexity: 84.809\n",
            "\n",
            "11300 iterations\n",
            "recon_error: 0.019\n",
            "perplexity: 84.866\n",
            "\n",
            "11400 iterations\n",
            "recon_error: 0.019\n",
            "perplexity: 84.932\n",
            "\n",
            "11500 iterations\n",
            "recon_error: 0.019\n",
            "perplexity: 85.134\n",
            "\n",
            "11600 iterations\n",
            "recon_error: 0.019\n",
            "perplexity: 84.964\n",
            "\n",
            "11700 iterations\n",
            "recon_error: 0.019\n",
            "perplexity: 85.059\n",
            "\n",
            "11800 iterations\n",
            "recon_error: 0.019\n",
            "perplexity: 84.780\n",
            "\n",
            "11900 iterations\n",
            "recon_error: 0.019\n",
            "perplexity: 85.255\n",
            "\n",
            "12000 iterations\n",
            "recon_error: 0.018\n",
            "perplexity: 85.109\n",
            "\n",
            "12100 iterations\n",
            "recon_error: 0.018\n",
            "perplexity: 85.002\n",
            "\n",
            "12200 iterations\n",
            "recon_error: 0.018\n",
            "perplexity: 85.040\n",
            "\n",
            "12300 iterations\n",
            "recon_error: 0.018\n",
            "perplexity: 85.298\n",
            "\n",
            "12400 iterations\n",
            "recon_error: 0.018\n",
            "perplexity: 85.352\n",
            "\n",
            "12500 iterations\n",
            "recon_error: 0.018\n",
            "perplexity: 85.201\n",
            "\n",
            "12600 iterations\n",
            "recon_error: 0.018\n",
            "perplexity: 85.313\n",
            "\n",
            "12700 iterations\n",
            "recon_error: 0.018\n",
            "perplexity: 85.404\n",
            "\n",
            "12800 iterations\n",
            "recon_error: 0.018\n",
            "perplexity: 85.628\n",
            "\n",
            "12900 iterations\n",
            "recon_error: 0.018\n",
            "perplexity: 85.440\n",
            "\n",
            "13000 iterations\n",
            "recon_error: 0.017\n",
            "perplexity: 85.337\n",
            "\n",
            "13100 iterations\n",
            "recon_error: 0.018\n",
            "perplexity: 85.605\n",
            "\n",
            "13200 iterations\n",
            "recon_error: 0.018\n",
            "perplexity: 85.744\n",
            "\n",
            "13300 iterations\n",
            "recon_error: 0.017\n",
            "perplexity: 85.075\n",
            "\n",
            "13400 iterations\n",
            "recon_error: 0.018\n",
            "perplexity: 85.390\n",
            "\n",
            "13500 iterations\n",
            "recon_error: 0.017\n",
            "perplexity: 85.214\n",
            "\n",
            "13600 iterations\n",
            "recon_error: 0.017\n",
            "perplexity: 85.612\n",
            "\n",
            "13700 iterations\n",
            "recon_error: 0.017\n",
            "perplexity: 85.162\n",
            "\n",
            "13800 iterations\n",
            "recon_error: 0.017\n",
            "perplexity: 84.930\n",
            "\n",
            "13900 iterations\n",
            "recon_error: 0.017\n",
            "perplexity: 85.076\n",
            "\n",
            "14000 iterations\n",
            "recon_error: 0.017\n",
            "perplexity: 85.261\n",
            "\n",
            "14100 iterations\n",
            "recon_error: 0.017\n",
            "perplexity: 85.132\n",
            "\n",
            "14200 iterations\n",
            "recon_error: 0.017\n",
            "perplexity: 84.905\n",
            "\n",
            "14300 iterations\n",
            "recon_error: 0.017\n",
            "perplexity: 84.863\n",
            "\n",
            "14400 iterations\n",
            "recon_error: 0.017\n",
            "perplexity: 84.953\n",
            "\n",
            "14500 iterations\n",
            "recon_error: 0.017\n",
            "perplexity: 84.741\n",
            "\n",
            "14600 iterations\n",
            "recon_error: 0.017\n",
            "perplexity: 84.696\n",
            "\n",
            "14700 iterations\n",
            "recon_error: 0.016\n",
            "perplexity: 84.353\n",
            "\n",
            "14800 iterations\n",
            "recon_error: 0.017\n",
            "perplexity: 84.453\n",
            "\n",
            "14900 iterations\n",
            "recon_error: 0.016\n",
            "perplexity: 84.357\n",
            "\n",
            "Model saved.\n",
            "15000 iterations\n",
            "recon_error: 0.017\n",
            "perplexity: 84.323\n",
            "\n",
            "CPU times: user 45min 40s, sys: 1.05 s, total: 45min 41s\n",
            "Wall time: 8min 23s\n"
          ]
        }
      ],
      "source": [
        "%%time\n",
        "model.train()\n",
        "train_res_recon_error = []\n",
        "train_res_perplexity = []\n",
        "\n",
        "for i in xrange(num_training_updates):\n",
        "    (data, _) = next(iter(training_loader))\n",
        "    data = data.to(device)\n",
        "    optimizer.zero_grad()\n",
        "\n",
        "    vq_loss, data_recon, perplexity, distances, encoding_indices, encodings = model(data)\n",
        "    recon_error = F.mse_loss(data_recon, data) / data_variance # 値を分かりやすく\n",
        "    loss = recon_error + vq_loss\n",
        "    loss.backward()\n",
        "\n",
        "    optimizer.step()\n",
        "    \n",
        "    train_res_recon_error.append(recon_error.item())\n",
        "    train_res_perplexity.append(perplexity.item())\n",
        "    if (i+1) % 5000 == 0:\n",
        "        torch.save(model , '{}/K={}_VQ-VAE_epoch_{}.pth'.format(folder, num_embeddings,i+1))\n",
        "        print('Model saved.')\n",
        "    if (i+1) % 100 == 0:\n",
        "        print('%d iterations' % (i+1))\n",
        "        print('recon_error: %.3f' % np.mean(train_res_recon_error[-100:]))\n",
        "        print('perplexity: %.3f' % np.mean(train_res_perplexity[-100:]))\n",
        "        print()"
      ]
    },
    {
      "cell_type": "code",
      "execution_count": 37,
      "metadata": {},
      "outputs": [],
      "source": [
        "# from torch import nn, optim\n",
        "\n",
        "class MaskedConv2d(nn.Conv2d):\n",
        "    def __init__(self, mask_type, *args, **kwargs):\n",
        "        super(MaskedConv2d, self).__init__(*args, **kwargs)\n",
        "        assert mask_type in ['A', 'B']\n",
        "        self.register_buffer('mask', self.weight.data.clone())\n",
        "        h = self.weight.size()[2]\n",
        "        w = self.weight.size()[3]\n",
        "        self.mask.fill_(1)\n",
        "        # マスクタイプによる場合分け\n",
        "        if mask_type == 'A': # 自分自身も見ない\n",
        "          self.mask[:, :, h // 2, w // 2:] = 0\n",
        "          self.mask[:, :, h // 2 + 1:] = 0\n",
        "        else: # 自分自身は見る\n",
        "          self.mask[:, :, h // 2, w // 2 + 1:] = 0\n",
        "          self.mask[:, :, h // 2 + 1:] = 0\n",
        " \n",
        "    def forward(self, x):\n",
        "        self.weight.data *= self.mask\n",
        "        return super(MaskedConv2d, self).forward(x)\n",
        "\n",
        "class PixelCNN(nn.Module):\n",
        "    def __init__(self, num_of_channels=32, n_layers=7, output_channels=512):\n",
        "        super(PixelCNN, self).__init__()\n",
        "        self.layers = nn.ModuleList()\n",
        " \n",
        "        # 最初のブロック\n",
        "        self.layers.append(MaskedConv2d(mask_type='A',\n",
        "                                        in_channels=1, \n",
        "                                        out_channels=num_of_channels,\n",
        "                                        kernel_size=7,\n",
        "                                        stride=1, \n",
        "                                        padding=3, \n",
        "                                        bias=False))\n",
        "        self.layers.append(nn.BatchNorm2d(num_of_channels))\n",
        "        self.layers.append(nn.ReLU(inplace=True))\n",
        " \n",
        "        # 後続のブロック\n",
        "        for i in range(1, n_layers+1):\n",
        "            self.layers.append(MaskedConv2d(mask_type='B',\n",
        "                                            in_channels=num_of_channels, \n",
        "                                            out_channels=num_of_channels,\n",
        "                                            kernel_size=7,\n",
        "                                            stride=1, \n",
        "                                            padding=3, \n",
        "                                            bias=False))\n",
        "            self.layers.append(nn.BatchNorm2d(num_of_channels))\n",
        "            self.layers.append(nn.ReLU(inplace=True))\n",
        " \n",
        "        self.layers.append(nn.Conv2d(in_channels=num_of_channels, \n",
        "                                     out_channels=output_channels,\n",
        "                                     kernel_size=1))\n",
        "     \n",
        "    def forward(self, x):\n",
        "        out = x\n",
        "        for layer in self.layers:\n",
        "            out = layer(out)\n",
        "        return out"
      ]
    },
    {
      "cell_type": "code",
      "execution_count": 38,
      "metadata": {},
      "outputs": [
        {
          "data": {
            "text/plain": [
              "torch.Size([256, 1, 28, 28])"
            ]
          },
          "execution_count": 38,
          "metadata": {},
          "output_type": "execute_result"
        }
      ],
      "source": [
        "data_recon.shape"
      ]
    },
    {
      "cell_type": "code",
      "execution_count": 39,
      "metadata": {},
      "outputs": [
        {
          "name": "stdout",
          "output_type": "stream",
          "text": [
            "epoch: 0/30 train error: 4.515\n",
            "Model saved.\n",
            "epoch: 1/30 train error: 3.903\n",
            "epoch: 2/30 train error: 3.812\n",
            "epoch: 3/30 train error: 3.766\n",
            "epoch: 4/30 train error: 3.733\n",
            "epoch: 5/30 train error: 3.708\n",
            "epoch: 6/30 train error: 3.687\n",
            "epoch: 7/30 train error: 3.671\n",
            "epoch: 8/30 train error: 3.656\n",
            "epoch: 9/30 train error: 3.644\n",
            "epoch: 10/30 train error: 3.635\n",
            "Model saved.\n",
            "epoch: 11/30 train error: 3.625\n",
            "epoch: 12/30 train error: 3.617\n",
            "epoch: 13/30 train error: 3.608\n",
            "epoch: 14/30 train error: 3.600\n",
            "epoch: 15/30 train error: 3.594\n",
            "epoch: 16/30 train error: 3.588\n",
            "epoch: 17/30 train error: 3.582\n",
            "epoch: 18/30 train error: 3.575\n",
            "epoch: 19/30 train error: 3.569\n",
            "epoch: 20/30 train error: 3.564\n",
            "Model saved.\n",
            "epoch: 21/30 train error: 3.560\n",
            "epoch: 22/30 train error: 3.555\n",
            "epoch: 23/30 train error: 3.550\n",
            "epoch: 24/30 train error: 3.545\n",
            "epoch: 25/30 train error: 3.541\n",
            "epoch: 26/30 train error: 3.537\n",
            "epoch: 27/30 train error: 3.534\n",
            "epoch: 28/30 train error: 3.529\n",
            "epoch: 29/30 train error: 3.525\n",
            "epoch: 30/30 train error: 3.522\n",
            "Model saved.\n"
          ]
        }
      ],
      "source": [
        "num_of_layers = 7 # マスクBの畳み込み層の数\n",
        "num_of_channels = 32 # チャネル数\n",
        "num_of_epochs = 30\n",
        "X_DIM = 8 # 出力の大きさ 特徴量のサイズ\n",
        "\n",
        "pixel_cnn = PixelCNN(num_of_channels, num_of_layers, num_embeddings).to(device)\n",
        "\n",
        "optimizer = optim.Adam(list(pixel_cnn.parameters()))\n",
        "criterion = nn.CrossEntropyLoss()\n",
        "train_losses = []\n",
        "for epoch in range(num_of_epochs+1):\n",
        "    # 学習\n",
        "    train_errors = []\n",
        "    pixel_cnn.train()\n",
        "    for x, _ in training_loader:\n",
        "        x = x.to(device)\n",
        "        vq_output_eval = model._pre_vq_conv(model._encoder(x))\n",
        "        _, data_recon, _, _, encoding_indices, encodings = model._vq_vae(vq_output_eval)\n",
        "        target = encoding_indices.view(batch_size, data_recon.shape[2], data_recon.shape[3])\n",
        "        x = target.unsqueeze_(1).to(device)\n",
        "        loss = criterion(pixel_cnn(x.float()), target.squeeze())\n",
        "        train_errors.append(loss.item())\n",
        "        optimizer.zero_grad()\n",
        "        loss.backward()\n",
        "        optimizer.step()\n",
        "         \n",
        "    print(f'epoch: {epoch}/{num_of_epochs} train error: {np.mean(train_errors):0.3f}')\n",
        "    if epoch % 10 == 0:\n",
        "        torch.save(pixel_cnn , '{}/VQ-pixelCNN_epoch_{}.pth'.format(folder,epoch))\n",
        "        print('Model saved.')\n",
        "    train_losses.append(np.mean(train_errors))"
      ]
    },
    {
      "cell_type": "code",
      "execution_count": 40,
      "metadata": {},
      "outputs": [],
      "source": [
        "sample = torch.Tensor(28, 1, data_recon.shape[2], data_recon.shape[3]).to(device) # 生成用\n",
        "pixel_cnn.eval()\n",
        "sample.fill_(0)\n",
        "\n",
        "for i in range(data_recon.shape[2]):\n",
        "    for j in range(data_recon.shape[3]):\n",
        "        out = pixel_cnn(sample).to(device)\n",
        "        probs = F.softmax(out[:, :, i, j], dim=1)\n",
        "        sample[:, :, i, j] = torch.multinomial(probs, 1).float()\n"
      ]
    },
    {
      "cell_type": "code",
      "execution_count": 41,
      "metadata": {},
      "outputs": [
        {
          "name": "stdout",
          "output_type": "stream",
          "text": [
            "torch.Size([1372, 1])\n"
          ]
        }
      ],
      "source": [
        "sample = sample.long()\n",
        "sample = sample.view(-1).unsqueeze(1)\n",
        "print(sample.shape)"
      ]
    },
    {
      "cell_type": "code",
      "execution_count": 56,
      "metadata": {},
      "outputs": [],
      "source": [
        "# model._vq_vae._embedding.weight\n",
        "encodings = torch.zeros(sample.shape[0], model._vq_vae._num_embeddings).to(device)\n",
        "encodings.scatter_(1, sample, 1)\n",
        "\n",
        "# Quantize and unflatten\n",
        "quantized = torch.matmul(encodings, model._vq_vae._embedding.weight).view(-1, data_recon.shape[2], data_recon.shape[3], 64)\n"
      ]
    },
    {
      "cell_type": "markdown",
      "metadata": {
        "id": "pXwOxkc-5D8P"
      },
      "source": [
        "## View Reconstructions"
      ]
    },
    {
      "cell_type": "code",
      "execution_count": 57,
      "metadata": {},
      "outputs": [],
      "source": [
        "# i=15000-1\n",
        "# model = torch.load('{}/K={}_VQ-VAE_epoch_{}.pth'.format(folder, num_embeddings,i+1))"
      ]
    },
    {
      "cell_type": "code",
      "execution_count": 58,
      "metadata": {
        "id": "N6LbKYay5D8P"
      },
      "outputs": [],
      "source": [
        "model.eval()\n",
        "\n",
        "(valid_originals, _) = next(iter(validation_loader))\n",
        "valid_originals = valid_originals.to(device)\n",
        "\n",
        "vq_output_eval = model._pre_vq_conv(model._encoder(valid_originals)) # エンコード\n",
        "_, valid_quantize, _, _, _, _, = model._vq_vae(vq_output_eval) # VQベクトル\n",
        "valid_reconstructions = model._decoder(valid_quantize) # 再構成"
      ]
    },
    {
      "cell_type": "code",
      "execution_count": 59,
      "metadata": {},
      "outputs": [],
      "source": [
        "# 生成\n",
        "quantized = quantized.permute(0, 3, 1, 2).contiguous()\n",
        "valid_reconstructions = model._decoder(quantized)"
      ]
    },
    {
      "cell_type": "code",
      "execution_count": 60,
      "metadata": {
        "id": "-eBp9kX05D8P"
      },
      "outputs": [],
      "source": [
        "(train_originals, _) = next(iter(training_loader))\n",
        "train_originals = train_originals.to(device)\n",
        "_, train_reconstructions, _, _, _, _ = model._vq_vae(train_originals)"
      ]
    },
    {
      "cell_type": "code",
      "execution_count": 61,
      "metadata": {
        "id": "-w-echh_5D8P"
      },
      "outputs": [],
      "source": [
        "def show(img):\n",
        "    npimg = img.numpy()\n",
        "    fig = plt.imshow(np.transpose(npimg, (1,2,0)), interpolation='nearest')\n",
        "    fig.axes.get_xaxis().set_visible(False)\n",
        "    fig.axes.get_yaxis().set_visible(False)"
      ]
    },
    {
      "cell_type": "code",
      "execution_count": 62,
      "metadata": {
        "id": "fiUYXUcd5D8P",
        "outputId": "31f48c78-f347-40ea-efcd-a98b242a3a79"
      },
      "outputs": [
        {
          "name": "stderr",
          "output_type": "stream",
          "text": [
            "Clipping input data to the valid range for imshow with RGB data ([0..1] for floats or [0..255] for integers).\n"
          ]
        },
        {
          "data": {
            "image/png": "[encoded data removed]",
            "text/plain": [
              "<Figure size 1008x720 with 1 Axes>"
            ]
          },
          "metadata": {
            "needs_background": "light"
          },
          "output_type": "display_data"
        }
      ],
      "source": [
        "plt.rcParams[\"figure.figsize\"] = (14, 10)\n",
        "show(make_grid(valid_reconstructions.cpu().data)+0.5, )"
      ]
    },
    {
      "cell_type": "code",
      "execution_count": 63,
      "metadata": {
        "id": "gutPns3l5D8P",
        "outputId": "baa7f929-2d6e-49ef-eecd-863cbca8a98b"
      },
      "outputs": [
        {
          "data": {
            "image/png": "[encoded data removed]",
            "text/plain": [
              "<Figure size 1008x720 with 1 Axes>"
            ]
          },
          "metadata": {
            "needs_background": "light"
          },
          "output_type": "display_data"
        }
      ],
      "source": [
        "show(make_grid(valid_originals.cpu()+0.5)) # 正規化で+0.5"
      ]
    },
    {
      "cell_type": "markdown",
      "metadata": {
        "id": "SyPZi_Xw5D8O"
      },
      "source": [
        "## Plot Loss"
      ]
    },
    {
      "cell_type": "code",
      "execution_count": 64,
      "metadata": {
        "id": "LZeIk6Jr5D8P"
      },
      "outputs": [],
      "source": [
        "train_res_recon_error_smooth = savgol_filter(train_res_recon_error, 201, 7) # 平滑化\n",
        "train_res_perplexity_smooth = savgol_filter(train_res_perplexity, 201, 7)"
      ]
    },
    {
      "cell_type": "code",
      "execution_count": 65,
      "metadata": {
        "id": "_1FaRsTn5D8P",
        "outputId": "3de3ea87-0b9f-4bb1-e707-137044fb3e1e"
      },
      "outputs": [
        {
          "data": {
            "text/plain": [
              "Text(0.5, 0, 'iteration')"
            ]
          },
          "execution_count": 65,
          "metadata": {},
          "output_type": "execute_result"
        },
        {
          "data": {
            "image/png": "[encoded data removed]",
            "text/plain": [
              "<Figure size 1152x576 with 2 Axes>"
            ]
          },
          "metadata": {
            "needs_background": "light"
          },
          "output_type": "display_data"
        }
      ],
      "source": [
        "f = plt.figure(figsize=(16,8))\n",
        "ax = f.add_subplot(1,2,1)\n",
        "ax.plot(train_res_recon_error_smooth)\n",
        "ax.set_yscale('log')\n",
        "ax.set_title('Smoothed NMSE.')\n",
        "ax.set_xlabel('iteration')\n",
        "\n",
        "ax = f.add_subplot(1,2,2)\n",
        "ax.plot(train_res_perplexity_smooth)\n",
        "ax.set_title('Smoothed Average codebook usage (perplexity).')\n",
        "ax.set_xlabel('iteration')"
      ]
    },
    {
      "cell_type": "markdown",
      "metadata": {
        "id": "A_Nuc1555D8Q"
      },
      "source": [
        "## View Embedding"
      ]
    },
    {
      "cell_type": "code",
      "execution_count": 66,
      "metadata": {
        "id": "jPAi-sd55D8Q"
      },
      "outputs": [
        {
          "ename": "NameError",
          "evalue": "name 'umap' is not defined",
          "output_type": "error",
          "traceback": [
            "\u001b[0;31m---------------------------------------------------------------------------\u001b[0m",
            "\u001b[0;31mNameError\u001b[0m                                 Traceback (most recent call last)",
            "\u001b[1;32mセル46 を /home/kodai/vq_vae_fix.ipynb\u001b[0m in \u001b[0;36m<cell line: 1>\u001b[0;34m()\u001b[0m\n\u001b[0;32m----> <a href='vscode-notebook-cell://ssh-remote%2Btortoise13/home/kodai/vq_vae_fix.ipynb#ch0000044vscode-remote?line=0'>1</a>\u001b[0m proj \u001b[39m=\u001b[39m umap\u001b[39m.\u001b[39mUMAP(n_neighbors\u001b[39m=\u001b[39m\u001b[39m3\u001b[39m,\n\u001b[1;32m      <a href='vscode-notebook-cell://ssh-remote%2Btortoise13/home/kodai/vq_vae_fix.ipynb#ch0000044vscode-remote?line=1'>2</a>\u001b[0m                  min_dist\u001b[39m=\u001b[39m\u001b[39m0.1\u001b[39m,\n\u001b[1;32m      <a href='vscode-notebook-cell://ssh-remote%2Btortoise13/home/kodai/vq_vae_fix.ipynb#ch0000044vscode-remote?line=2'>3</a>\u001b[0m                  metric\u001b[39m=\u001b[39m\u001b[39m'\u001b[39m\u001b[39mcosine\u001b[39m\u001b[39m'\u001b[39m)\u001b[39m.\u001b[39mfit_transform(model\u001b[39m.\u001b[39m_vq_vae\u001b[39m.\u001b[39m_embedding\u001b[39m.\u001b[39mweight\u001b[39m.\u001b[39mdata\u001b[39m.\u001b[39mcpu())\n",
            "\u001b[0;31mNameError\u001b[0m: name 'umap' is not defined"
          ]
        }
      ],
      "source": [
        "proj = umap.UMAP(n_neighbors=3,\n",
        "                 min_dist=0.1,\n",
        "                 metric='cosine').fit_transform(model._vq_vae._embedding.weight.data.cpu())"
      ]
    },
    {
      "cell_type": "code",
      "execution_count": null,
      "metadata": {
        "id": "uDln4D165D8Q",
        "outputId": "acf3b62a-fb45-407f-8d64-a01ac5a65947"
      },
      "outputs": [
        {
          "data": {
            "text/plain": [
              "<matplotlib.collections.PathCollection at 0x7f08d62ce7f0>"
            ]
          },
          "execution_count": 25,
          "metadata": {},
          "output_type": "execute_result"
        },
        {
          "data": {
            "image/png": "[encoded data removed]",
            "text/plain": [
              "<Figure size 432x288 with 1 Axes>"
            ]
          },
          "metadata": {
            "needs_background": "light"
          },
          "output_type": "display_data"
        }
      ],
      "source": [
        "plt.scatter(proj[:,0], proj[:,1], alpha=0.3)"
      ]
    },
    {
      "cell_type": "code",
      "execution_count": null,
      "metadata": {
        "id": "8jcoS2KV5D8Q"
      },
      "outputs": [],
      "source": []
    }
  ],
  "metadata": {
    "colab": {
      "collapsed_sections": [],
      "name": "vq-vae.ipynb のコピー",
      "provenance": []
    },
    "kernelspec": {
      "display_name": "Python 3.10.4 ('test': venv)",
      "language": "python",
      "name": "python3"
    },
    "language_info": {
      "codemirror_mode": {
        "name": "ipython",
        "version": 3
      },
      "file_extension": ".py",
      "mimetype": "text/x-python",
      "name": "python",
      "nbconvert_exporter": "python",
      "pygments_lexer": "ipython3",
      "version": "3.10.4"
    },
    "vscode": {
      "interpreter": {
        "hash": "71de5d439efc69c58b86ea65c5e8d20e89004ad94ea73b48b827b80c56ff4491"
      }
    }
  },
  "nbformat": 4,
  "nbformat_minor": 0
}
